{
 "metadata": {
  "language_info": {
   "codemirror_mode": {
    "name": "ipython",
    "version": 3
   },
   "file_extension": ".py",
   "mimetype": "text/x-python",
   "name": "python",
   "nbconvert_exporter": "python",
   "pygments_lexer": "ipython3",
   "version": "3.9.2"
  },
  "orig_nbformat": 2,
  "kernelspec": {
   "name": "python392jvsc74a57bd0cf6663ca35ebd57d6121109460e534e72c1e1f8ff142ad985cdcb4b7e585eb79",
   "display_name": "Python 3.9.2 64-bit"
  },
  "metadata": {
   "interpreter": {
    "hash": "cf6663ca35ebd57d6121109460e534e72c1e1f8ff142ad985cdcb4b7e585eb79"
   }
  }
 },
 "nbformat": 4,
 "nbformat_minor": 2,
 "cells": [
  {
   "cell_type": "code",
   "execution_count": 1,
   "metadata": {},
   "outputs": [
    {
     "output_type": "stream",
     "name": "stdout",
     "text": [
      "INFO:tensorflow:Enabling eager execution\n",
      "INFO:tensorflow:Enabling v2 tensorshape\n",
      "INFO:tensorflow:Enabling resource variables\n",
      "INFO:tensorflow:Enabling tensor equality\n",
      "INFO:tensorflow:Enabling control flow v2\n"
     ]
    }
   ],
   "source": [
    "from tensorflow.keras.applications.inception_v3 import InceptionV3\n",
    "from tensorflow.keras.layers import Flatten, Dense, Dropout\n",
    "from tensorflow.keras.models import Model\n",
    "from tensorflow.keras.preprocessing.image import ImageDataGenerator\n",
    "import tensorflow as tf\n",
    "import os"
   ]
  },
  {
   "cell_type": "code",
   "execution_count": 2,
   "metadata": {},
   "outputs": [],
   "source": [
    "#we create image generator function to genarate training and test as well as to automatically label the data\n",
    "\n",
    "def image_gen_w_aug(train_parent_directory, test_parent_directory):\n",
    "    \n",
    "    train_datagen = ImageDataGenerator(rescale=1/255,\n",
    "                                      rotation_range = 30,  \n",
    "                                      zoom_range = 0.2, \n",
    "                                      width_shift_range=0.1,  \n",
    "                                      height_shift_range=0.1,\n",
    "                                      validation_split = 0.15)\n",
    "    \n",
    "  \n",
    "    \n",
    "    test_datagen = ImageDataGenerator(rescale=1/255)\n",
    "    \n",
    "    train_generator = train_datagen.flow_from_directory(train_parent_directory,\n",
    "                                                       target_size = (75,75),\n",
    "                                                       batch_size = 214,\n",
    "                                                       class_mode = 'categorical',\n",
    "                                                       subset='training')\n",
    "    \n",
    "    val_generator = train_datagen.flow_from_directory(train_parent_directory,\n",
    "                                                          target_size = (75,75),\n",
    "                                                          batch_size = 37,\n",
    "                                                          class_mode = 'categorical',\n",
    "                                                          subset = 'validation')\n",
    "    \n",
    "    test_generator = test_datagen.flow_from_directory(test_parent_directory,\n",
    "                                                     target_size=(75,75),\n",
    "                                                     batch_size = 37,\n",
    "                                                     class_mode = 'categorical')\n",
    "    \n",
    "    return train_generator, val_generator, test_generator"
   ]
  },
  {
   "cell_type": "code",
   "execution_count": 3,
   "metadata": {},
   "outputs": [],
   "source": [
    "def model_output_for_TL (pre_trained_model, last_output):\n",
    "\n",
    "    x = Flatten()(last_output)\n",
    "    \n",
    "    # Dense hidden layer\n",
    "    x = Dense(512, activation='relu')(x)\n",
    "    x = Dropout(0.2)(x)\n",
    "    \n",
    "    # Output neuron. \n",
    "    x = Dense(3, activation='softmax')(x)\n",
    "    \n",
    "    model = Model(pre_trained_model.input, x)\n",
    "    \n",
    "    return model"
   ]
  },
  {
   "cell_type": "code",
   "execution_count": 6,
   "metadata": {},
   "outputs": [],
   "source": [
    "train_dir = os.path.join('D:/Projects/AI/rps-class/dataset/rps/rps/')\n",
    "test_dir = os.path.join('D:/Projects/AI/rps-class/dataset/rps/rps')"
   ]
  },
  {
   "cell_type": "code",
   "execution_count": 7,
   "metadata": {},
   "outputs": [
    {
     "output_type": "stream",
     "name": "stdout",
     "text": [
      "Found 2142 images belonging to 3 classes.\nFound 378 images belonging to 3 classes.\nFound 2520 images belonging to 3 classes.\n"
     ]
    }
   ],
   "source": [
    "train_generator, validation_generator, test_generator = image_gen_w_aug(train_dir, test_dir)"
   ]
  },
  {
   "cell_type": "code",
   "execution_count": 8,
   "metadata": {},
   "outputs": [],
   "source": [
    "pre_trained_model = InceptionV3(input_shape = (75, 75, 3), \n",
    "                                include_top = False, \n",
    "                                weights = 'imagenet')\n",
    "\n",
    "for layer in pre_trained_model.layers:\n",
    "  layer.trainable = False\n",
    "\n",
    "last_layer = pre_trained_model.get_layer('mixed3')\n",
    "last_output = last_layer.output"
   ]
  },
  {
   "cell_type": "code",
   "execution_count": 9,
   "metadata": {},
   "outputs": [],
   "source": [
    "model_TL = model_output_for_TL(pre_trained_model, last_output)\n",
    "model_TL.compile(optimizer='adam', loss='categorical_crossentropy', metrics=['accuracy'])"
   ]
  },
  {
   "cell_type": "code",
   "execution_count": 10,
   "metadata": {},
   "outputs": [
    {
     "output_type": "stream",
     "name": "stdout",
     "text": [
      "Epoch 1/20\n",
      "10/10 [==============================] - 28s 3s/step - loss: 15.3492 - accuracy: 0.3417 - val_loss: 0.8027 - val_accuracy: 0.5952\n",
      "Epoch 2/20\n",
      "10/10 [==============================] - 11s 1s/step - loss: 1.5521 - accuracy: 0.6178 - val_loss: 1.0518 - val_accuracy: 0.6058\n",
      "Epoch 3/20\n",
      "10/10 [==============================] - 11s 1s/step - loss: 0.6912 - accuracy: 0.7705 - val_loss: 0.2047 - val_accuracy: 0.9206\n",
      "Epoch 4/20\n",
      "10/10 [==============================] - 11s 1s/step - loss: 0.2413 - accuracy: 0.9018 - val_loss: 0.2249 - val_accuracy: 0.9048\n",
      "Epoch 5/20\n",
      "10/10 [==============================] - 11s 1s/step - loss: 0.1173 - accuracy: 0.9684 - val_loss: 0.1384 - val_accuracy: 0.9550\n",
      "Epoch 6/20\n",
      "10/10 [==============================] - 11s 1s/step - loss: 0.0965 - accuracy: 0.9763 - val_loss: 0.1590 - val_accuracy: 0.9418\n",
      "Epoch 7/20\n",
      "10/10 [==============================] - 11s 1s/step - loss: 0.0647 - accuracy: 0.9893 - val_loss: 0.1508 - val_accuracy: 0.9550\n",
      "Epoch 8/20\n",
      "10/10 [==============================] - 11s 1s/step - loss: 0.0496 - accuracy: 0.9899 - val_loss: 0.1056 - val_accuracy: 0.9709\n",
      "Epoch 9/20\n",
      "10/10 [==============================] - 11s 1s/step - loss: 0.0378 - accuracy: 0.9921 - val_loss: 0.0941 - val_accuracy: 0.9709\n",
      "Epoch 10/20\n",
      "10/10 [==============================] - 11s 1s/step - loss: 0.0396 - accuracy: 0.9945 - val_loss: 0.1082 - val_accuracy: 0.9656\n",
      "Epoch 11/20\n",
      "10/10 [==============================] - 11s 1s/step - loss: 0.0320 - accuracy: 0.9938 - val_loss: 0.0590 - val_accuracy: 0.9894\n",
      "Epoch 12/20\n",
      "10/10 [==============================] - 11s 1s/step - loss: 0.0255 - accuracy: 0.9968 - val_loss: 0.0563 - val_accuracy: 0.9894\n",
      "Epoch 13/20\n",
      "10/10 [==============================] - 10s 1s/step - loss: 0.0197 - accuracy: 0.9979 - val_loss: 0.0873 - val_accuracy: 0.9709\n",
      "Epoch 14/20\n",
      "10/10 [==============================] - 10s 1s/step - loss: 0.0190 - accuracy: 0.9969 - val_loss: 0.0643 - val_accuracy: 0.9894\n",
      "Epoch 15/20\n",
      "10/10 [==============================] - 10s 1s/step - loss: 0.0216 - accuracy: 0.9951 - val_loss: 0.0394 - val_accuracy: 0.9947\n",
      "Epoch 16/20\n",
      "10/10 [==============================] - 11s 1s/step - loss: 0.0250 - accuracy: 0.9935 - val_loss: 0.0715 - val_accuracy: 0.9788\n",
      "Epoch 17/20\n",
      "10/10 [==============================] - 10s 1s/step - loss: 0.0299 - accuracy: 0.9912 - val_loss: 0.0529 - val_accuracy: 0.9921\n",
      "Epoch 18/20\n",
      "10/10 [==============================] - 11s 1s/step - loss: 0.0201 - accuracy: 0.9961 - val_loss: 0.0458 - val_accuracy: 0.9947\n",
      "Epoch 19/20\n",
      "10/10 [==============================] - 11s 1s/step - loss: 0.0085 - accuracy: 0.9999 - val_loss: 0.0598 - val_accuracy: 0.9788\n",
      "Epoch 20/20\n",
      "10/10 [==============================] - 10s 1s/step - loss: 0.0103 - accuracy: 0.9981 - val_loss: 0.0338 - val_accuracy: 0.9894\n"
     ]
    }
   ],
   "source": [
    "history_TL = model_TL.fit(\n",
    "      train_generator,\n",
    "      steps_per_epoch=10,  \n",
    "      epochs=20,\n",
    "      verbose=1,\n",
    "      validation_data = validation_generator)\n",
    "\n",
    "tf.keras.models.save_model(model_TL,'my_model.hdf5')"
   ]
  },
  {
   "cell_type": "code",
   "execution_count": null,
   "metadata": {},
   "outputs": [],
   "source": []
  }
 ]
}